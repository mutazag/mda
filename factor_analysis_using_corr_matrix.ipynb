{
 "cells": [
  {
   "cell_type": "markdown",
   "metadata": {},
   "source": [
    "# Using corr matrix R -- example 9.14 JW\n",
    "\n",
    "simialr approach to getting factor model like one used with var covar \n",
    "\n",
    "in R matrix, assume  diag are h*2 \n",
    "and epsilon_i = 1/rii where rii is the digonal element in inv R"
   ]
  },
  {
   "cell_type": "code",
   "execution_count": 9,
   "metadata": {},
   "outputs": [],
   "source": [
    "R_mat = matrix( c(1, .505, .569, .602, .621, .603, \n",
    "                 .505, 1, .422, .467, .482, .450, \n",
    "                 .569, .422, 1, .926, .877, .878,\n",
    "                 .602, .467, .926, 1, .874, .894,\n",
    "                 .621, .482, .877, .874, 1, .937,\n",
    "                 .603, .450, .878, .894, .937, 1), byrow=TRUE, nrow=6)"
   ]
  },
  {
   "cell_type": "code",
   "execution_count": 10,
   "metadata": {},
   "outputs": [
    {
     "data": {
      "text/html": [
       "<table>\n",
       "<caption>A matrix: 6 × 6 of type dbl</caption>\n",
       "<tbody>\n",
       "\t<tr><td>1.000</td><td>0.505</td><td>0.569</td><td>0.602</td><td>0.621</td><td>0.603</td></tr>\n",
       "\t<tr><td>0.505</td><td>1.000</td><td>0.422</td><td>0.467</td><td>0.482</td><td>0.450</td></tr>\n",
       "\t<tr><td>0.569</td><td>0.422</td><td>1.000</td><td>0.926</td><td>0.877</td><td>0.878</td></tr>\n",
       "\t<tr><td>0.602</td><td>0.467</td><td>0.926</td><td>1.000</td><td>0.874</td><td>0.894</td></tr>\n",
       "\t<tr><td>0.621</td><td>0.482</td><td>0.877</td><td>0.874</td><td>1.000</td><td>0.937</td></tr>\n",
       "\t<tr><td>0.603</td><td>0.450</td><td>0.878</td><td>0.894</td><td>0.937</td><td>1.000</td></tr>\n",
       "</tbody>\n",
       "</table>\n"
      ],
      "text/latex": [
       "A matrix: 6 × 6 of type dbl\n",
       "\\begin{tabular}{llllll}\n",
       "\t 1.000 & 0.505 & 0.569 & 0.602 & 0.621 & 0.603\\\\\n",
       "\t 0.505 & 1.000 & 0.422 & 0.467 & 0.482 & 0.450\\\\\n",
       "\t 0.569 & 0.422 & 1.000 & 0.926 & 0.877 & 0.878\\\\\n",
       "\t 0.602 & 0.467 & 0.926 & 1.000 & 0.874 & 0.894\\\\\n",
       "\t 0.621 & 0.482 & 0.877 & 0.874 & 1.000 & 0.937\\\\\n",
       "\t 0.603 & 0.450 & 0.878 & 0.894 & 0.937 & 1.000\\\\\n",
       "\\end{tabular}\n"
      ],
      "text/markdown": [
       "\n",
       "A matrix: 6 × 6 of type dbl\n",
       "\n",
       "| 1.000 | 0.505 | 0.569 | 0.602 | 0.621 | 0.603 |\n",
       "| 0.505 | 1.000 | 0.422 | 0.467 | 0.482 | 0.450 |\n",
       "| 0.569 | 0.422 | 1.000 | 0.926 | 0.877 | 0.878 |\n",
       "| 0.602 | 0.467 | 0.926 | 1.000 | 0.874 | 0.894 |\n",
       "| 0.621 | 0.482 | 0.877 | 0.874 | 1.000 | 0.937 |\n",
       "| 0.603 | 0.450 | 0.878 | 0.894 | 0.937 | 1.000 |\n",
       "\n"
      ],
      "text/plain": [
       "     [,1]  [,2]  [,3]  [,4]  [,5]  [,6] \n",
       "[1,] 1.000 0.505 0.569 0.602 0.621 0.603\n",
       "[2,] 0.505 1.000 0.422 0.467 0.482 0.450\n",
       "[3,] 0.569 0.422 1.000 0.926 0.877 0.878\n",
       "[4,] 0.602 0.467 0.926 1.000 0.874 0.894\n",
       "[5,] 0.621 0.482 0.877 0.874 1.000 0.937\n",
       "[6,] 0.603 0.450 0.878 0.894 0.937 1.000"
      ]
     },
     "metadata": {},
     "output_type": "display_data"
    }
   ],
   "source": [
    "R_mat"
   ]
  },
  {
   "cell_type": "code",
   "execution_count": 16,
   "metadata": {},
   "outputs": [],
   "source": [
    "egs  = eigen(R_mat)\n",
    "V = egs$vectors\n",
    "Lambdas = egs$values\n",
    "D = diag(egs$values)"
   ]
  },
  {
   "cell_type": "code",
   "execution_count": 17,
   "metadata": {},
   "outputs": [],
   "source": [
    "e1 <- V[,1]\n",
    "e2 <- V[,2]\n",
    "e3 <- V[,3]\n",
    "e4 <- V[,4]\n",
    "e5 <- V[,5]\n",
    "e6 <- V[,6]"
   ]
  },
  {
   "cell_type": "code",
   "execution_count": 19,
   "metadata": {},
   "outputs": [
    {
     "data": {
      "text/html": [
       "<style>\n",
       ".list-inline {list-style: none; margin:0; padding: 0}\n",
       ".list-inline>li {display: inline-block}\n",
       ".list-inline>li:not(:last-child)::after {content: \"\\00b7\"; padding: 0 .5ex}\n",
       "</style>\n",
       "<ol class=list-inline><li>4.45644850274596</li><li>0.782409914979932</li><li>0.458425060687943</li><li>0.168832565150606</li><li>0.079087740788869</li><li>0.0547962156466886</li></ol>\n"
      ],
      "text/latex": [
       "\\begin{enumerate*}\n",
       "\\item 4.45644850274596\n",
       "\\item 0.782409914979932\n",
       "\\item 0.458425060687943\n",
       "\\item 0.168832565150606\n",
       "\\item 0.079087740788869\n",
       "\\item 0.0547962156466886\n",
       "\\end{enumerate*}\n"
      ],
      "text/markdown": [
       "1. 4.45644850274596\n",
       "2. 0.782409914979932\n",
       "3. 0.458425060687943\n",
       "4. 0.168832565150606\n",
       "5. 0.079087740788869\n",
       "6. 0.0547962156466886\n",
       "\n",
       "\n"
      ],
      "text/plain": [
       "[1] 4.45644850 0.78240991 0.45842506 0.16883257 0.07908774 0.05479622"
      ]
     },
     "metadata": {},
     "output_type": "display_data"
    }
   ],
   "source": [
    "Lambdas"
   ]
  },
  {
   "cell_type": "code",
   "execution_count": 20,
   "metadata": {},
   "outputs": [
    {
     "data": {
      "text/html": [
       "6"
      ],
      "text/latex": [
       "6"
      ],
      "text/markdown": [
       "6"
      ],
      "text/plain": [
       "[1] 6"
      ]
     },
     "metadata": {},
     "output_type": "display_data"
    },
    {
     "data": {
      "text/html": [
       "TRUE"
      ],
      "text/latex": [
       "TRUE"
      ],
      "text/markdown": [
       "TRUE"
      ],
      "text/plain": [
       "[1] TRUE"
      ]
     },
     "metadata": {},
     "output_type": "display_data"
    }
   ],
   "source": [
    "p = dim(R_mat)[1]\n",
    "sum(Lambdas) \n",
    "all.equal(p, sum(Lambdas))"
   ]
  },
  {
   "cell_type": "code",
   "execution_count": 21,
   "metadata": {},
   "outputs": [
    {
     "data": {
      "text/html": [
       "0.949547246402306"
      ],
      "text/latex": [
       "0.949547246402306"
      ],
      "text/markdown": [
       "0.949547246402306"
      ],
      "text/plain": [
       "[1] 0.9495472"
      ]
     },
     "metadata": {},
     "output_type": "display_data"
    }
   ],
   "source": [
    "#for m = 3 common factors will account a cumulative proportion  as follows \n",
    "m = 3\n",
    "\n",
    "sum(Lambdas[1:m]) / p"
   ]
  },
  {
   "cell_type": "code",
   "execution_count": 24,
   "metadata": {},
   "outputs": [],
   "source": [
    "Fl1 = round(sqrt(Lambdas[1]) * e1, 3)\n",
    "Fl2 = round(sqrt(Lambdas[2]) * e2, 3)\n",
    "Fl3 = round(sqrt(Lambdas[3]) * e3, 3)"
   ]
  },
  {
   "cell_type": "code",
   "execution_count": 43,
   "metadata": {},
   "outputs": [
    {
     "data": {
      "text/html": [
       "<table>\n",
       "<caption>A matrix: 6 × 3 of type dbl</caption>\n",
       "<tbody>\n",
       "\t<tr><td>-0.741</td><td> 0.350</td><td> 0.573</td></tr>\n",
       "\t<tr><td>-0.604</td><td> 0.721</td><td>-0.340</td></tr>\n",
       "\t<tr><td>-0.929</td><td>-0.233</td><td>-0.075</td></tr>\n",
       "\t<tr><td>-0.943</td><td>-0.174</td><td>-0.067</td></tr>\n",
       "\t<tr><td>-0.948</td><td>-0.143</td><td>-0.045</td></tr>\n",
       "\t<tr><td>-0.945</td><td>-0.189</td><td>-0.047</td></tr>\n",
       "</tbody>\n",
       "</table>\n"
      ],
      "text/latex": [
       "A matrix: 6 × 3 of type dbl\n",
       "\\begin{tabular}{lll}\n",
       "\t -0.741 &  0.350 &  0.573\\\\\n",
       "\t -0.604 &  0.721 & -0.340\\\\\n",
       "\t -0.929 & -0.233 & -0.075\\\\\n",
       "\t -0.943 & -0.174 & -0.067\\\\\n",
       "\t -0.948 & -0.143 & -0.045\\\\\n",
       "\t -0.945 & -0.189 & -0.047\\\\\n",
       "\\end{tabular}\n"
      ],
      "text/markdown": [
       "\n",
       "A matrix: 6 × 3 of type dbl\n",
       "\n",
       "| -0.741 |  0.350 |  0.573 |\n",
       "| -0.604 |  0.721 | -0.340 |\n",
       "| -0.929 | -0.233 | -0.075 |\n",
       "| -0.943 | -0.174 | -0.067 |\n",
       "| -0.948 | -0.143 | -0.045 |\n",
       "| -0.945 | -0.189 | -0.047 |\n",
       "\n"
      ],
      "text/plain": [
       "     [,1]   [,2]   [,3]  \n",
       "[1,] -0.741  0.350  0.573\n",
       "[2,] -0.604  0.721 -0.340\n",
       "[3,] -0.929 -0.233 -0.075\n",
       "[4,] -0.943 -0.174 -0.067\n",
       "[5,] -0.948 -0.143 -0.045\n",
       "[6,] -0.945 -0.189 -0.047"
      ]
     },
     "metadata": {},
     "output_type": "display_data"
    }
   ],
   "source": [
    "L_star  = matrix(cbind(Fl1,Fl2,Fl3), byrow=FALSE, ncol=3)\n",
    "L_star"
   ]
  },
  {
   "cell_type": "code",
   "execution_count": 44,
   "metadata": {},
   "outputs": [
    {
     "data": {
      "text/html": [
       "<style>\n",
       ".list-inline {list-style: none; margin:0; padding: 0}\n",
       ".list-inline>li {display: inline-block}\n",
       ".list-inline>li:not(:last-child)::after {content: \"\\00b7\"; padding: 0 .5ex}\n",
       "</style>\n",
       "<ol class=list-inline><li>0.99991</li><li>1.00026</li><li>0.92296</li><li>0.92401</li><li>0.92118</li><li>0.93096</li></ol>\n"
      ],
      "text/latex": [
       "\\begin{enumerate*}\n",
       "\\item 0.99991\n",
       "\\item 1.00026\n",
       "\\item 0.92296\n",
       "\\item 0.92401\n",
       "\\item 0.92118\n",
       "\\item 0.93096\n",
       "\\end{enumerate*}\n"
      ],
      "text/markdown": [
       "1. 0.99991\n",
       "2. 1.00026\n",
       "3. 0.92296\n",
       "4. 0.92401\n",
       "5. 0.92118\n",
       "6. 0.93096\n",
       "\n",
       "\n"
      ],
      "text/plain": [
       "[1] 0.99991 1.00026 0.92296 0.92401 0.92118 0.93096"
      ]
     },
     "metadata": {},
     "output_type": "display_data"
    }
   ],
   "source": [
    "# calculate communalities \n",
    "# h1 = Fl1^2 + Fl2^2 + ... + Flp^2\n",
    "h2 = round((Fl1**2) + (Fl2**2)  + (Fl3**2),5)\n",
    "h2"
   ]
  },
  {
   "cell_type": "code",
   "execution_count": 45,
   "metadata": {},
   "outputs": [
    {
     "data": {
      "text/html": [
       "<style>\n",
       ".list-inline {list-style: none; margin:0; padding: 0}\n",
       ".list-inline>li {display: inline-block}\n",
       ".list-inline>li:not(:last-child)::after {content: \"\\00b7\"; padding: 0 .5ex}\n",
       "</style>\n",
       "<ol class=list-inline><li>0</li><li>0</li><li>0.08</li><li>0.08</li><li>0.08</li><li>0.07</li></ol>\n"
      ],
      "text/latex": [
       "\\begin{enumerate*}\n",
       "\\item 0\n",
       "\\item 0\n",
       "\\item 0.08\n",
       "\\item 0.08\n",
       "\\item 0.08\n",
       "\\item 0.07\n",
       "\\end{enumerate*}\n"
      ],
      "text/markdown": [
       "1. 0\n",
       "2. 0\n",
       "3. 0.08\n",
       "4. 0.08\n",
       "5. 0.08\n",
       "6. 0.07\n",
       "\n",
       "\n"
      ],
      "text/plain": [
       "[1] 0.00 0.00 0.08 0.08 0.08 0.07"
      ]
     },
     "metadata": {},
     "output_type": "display_data"
    }
   ],
   "source": [
    "Epsilon = 1- h2\n",
    "round(Epsilon,2)"
   ]
  },
  {
   "cell_type": "code",
   "execution_count": 46,
   "metadata": {},
   "outputs": [],
   "source": [
    "Estimated_R_mat = L_star %*% t(L_star) + diag(Epsilon)"
   ]
  },
  {
   "cell_type": "code",
   "execution_count": 47,
   "metadata": {},
   "outputs": [
    {
     "data": {
      "text/html": [
       "<table>\n",
       "<caption>A matrix: 6 × 6 of type dbl</caption>\n",
       "<tbody>\n",
       "\t<tr><td>1.000000</td><td>0.505094</td><td>0.563864</td><td>0.599472</td><td>0.626633</td><td>0.607164</td></tr>\n",
       "\t<tr><td>0.505094</td><td>0.999997</td><td>0.418623</td><td>0.466898</td><td>0.484789</td><td>0.450491</td></tr>\n",
       "\t<tr><td>0.563864</td><td>0.418623</td><td>0.999995</td><td>0.921614</td><td>0.917386</td><td>0.925467</td></tr>\n",
       "\t<tr><td>0.599472</td><td>0.466898</td><td>0.921614</td><td>1.000004</td><td>0.921861</td><td>0.927170</td></tr>\n",
       "\t<tr><td>0.626633</td><td>0.484789</td><td>0.917386</td><td>0.921861</td><td>0.999998</td><td>0.925002</td></tr>\n",
       "\t<tr><td>0.607164</td><td>0.450491</td><td>0.925467</td><td>0.927170</td><td>0.925002</td><td>0.999995</td></tr>\n",
       "</tbody>\n",
       "</table>\n"
      ],
      "text/latex": [
       "A matrix: 6 × 6 of type dbl\n",
       "\\begin{tabular}{llllll}\n",
       "\t 1.000000 & 0.505094 & 0.563864 & 0.599472 & 0.626633 & 0.607164\\\\\n",
       "\t 0.505094 & 0.999997 & 0.418623 & 0.466898 & 0.484789 & 0.450491\\\\\n",
       "\t 0.563864 & 0.418623 & 0.999995 & 0.921614 & 0.917386 & 0.925467\\\\\n",
       "\t 0.599472 & 0.466898 & 0.921614 & 1.000004 & 0.921861 & 0.927170\\\\\n",
       "\t 0.626633 & 0.484789 & 0.917386 & 0.921861 & 0.999998 & 0.925002\\\\\n",
       "\t 0.607164 & 0.450491 & 0.925467 & 0.927170 & 0.925002 & 0.999995\\\\\n",
       "\\end{tabular}\n"
      ],
      "text/markdown": [
       "\n",
       "A matrix: 6 × 6 of type dbl\n",
       "\n",
       "| 1.000000 | 0.505094 | 0.563864 | 0.599472 | 0.626633 | 0.607164 |\n",
       "| 0.505094 | 0.999997 | 0.418623 | 0.466898 | 0.484789 | 0.450491 |\n",
       "| 0.563864 | 0.418623 | 0.999995 | 0.921614 | 0.917386 | 0.925467 |\n",
       "| 0.599472 | 0.466898 | 0.921614 | 1.000004 | 0.921861 | 0.927170 |\n",
       "| 0.626633 | 0.484789 | 0.917386 | 0.921861 | 0.999998 | 0.925002 |\n",
       "| 0.607164 | 0.450491 | 0.925467 | 0.927170 | 0.925002 | 0.999995 |\n",
       "\n"
      ],
      "text/plain": [
       "     [,1]     [,2]     [,3]     [,4]     [,5]     [,6]    \n",
       "[1,] 1.000000 0.505094 0.563864 0.599472 0.626633 0.607164\n",
       "[2,] 0.505094 0.999997 0.418623 0.466898 0.484789 0.450491\n",
       "[3,] 0.563864 0.418623 0.999995 0.921614 0.917386 0.925467\n",
       "[4,] 0.599472 0.466898 0.921614 1.000004 0.921861 0.927170\n",
       "[5,] 0.626633 0.484789 0.917386 0.921861 0.999998 0.925002\n",
       "[6,] 0.607164 0.450491 0.925467 0.927170 0.925002 0.999995"
      ]
     },
     "metadata": {},
     "output_type": "display_data"
    }
   ],
   "source": [
    "Estimated_R_mat"
   ]
  },
  {
   "cell_type": "code",
   "execution_count": 48,
   "metadata": {},
   "outputs": [],
   "source": [
    "residual_matrix = R_mat -Estimated_R_mat"
   ]
  },
  {
   "cell_type": "code",
   "execution_count": 50,
   "metadata": {},
   "outputs": [
    {
     "data": {
      "text/html": [
       "<table>\n",
       "<caption>A matrix: 6 × 6 of type dbl</caption>\n",
       "<tbody>\n",
       "\t<tr><td> 0.000</td><td> 0.000</td><td> 0.005</td><td> 0.003</td><td>-0.006</td><td>-0.004</td></tr>\n",
       "\t<tr><td> 0.000</td><td> 0.000</td><td> 0.003</td><td> 0.000</td><td>-0.003</td><td> 0.000</td></tr>\n",
       "\t<tr><td> 0.005</td><td> 0.003</td><td> 0.000</td><td> 0.004</td><td>-0.040</td><td>-0.047</td></tr>\n",
       "\t<tr><td> 0.003</td><td> 0.000</td><td> 0.004</td><td> 0.000</td><td>-0.048</td><td>-0.033</td></tr>\n",
       "\t<tr><td>-0.006</td><td>-0.003</td><td>-0.040</td><td>-0.048</td><td> 0.000</td><td> 0.012</td></tr>\n",
       "\t<tr><td>-0.004</td><td> 0.000</td><td>-0.047</td><td>-0.033</td><td> 0.012</td><td> 0.000</td></tr>\n",
       "</tbody>\n",
       "</table>\n"
      ],
      "text/latex": [
       "A matrix: 6 × 6 of type dbl\n",
       "\\begin{tabular}{llllll}\n",
       "\t  0.000 &  0.000 &  0.005 &  0.003 & -0.006 & -0.004\\\\\n",
       "\t  0.000 &  0.000 &  0.003 &  0.000 & -0.003 &  0.000\\\\\n",
       "\t  0.005 &  0.003 &  0.000 &  0.004 & -0.040 & -0.047\\\\\n",
       "\t  0.003 &  0.000 &  0.004 &  0.000 & -0.048 & -0.033\\\\\n",
       "\t -0.006 & -0.003 & -0.040 & -0.048 &  0.000 &  0.012\\\\\n",
       "\t -0.004 &  0.000 & -0.047 & -0.033 &  0.012 &  0.000\\\\\n",
       "\\end{tabular}\n"
      ],
      "text/markdown": [
       "\n",
       "A matrix: 6 × 6 of type dbl\n",
       "\n",
       "|  0.000 |  0.000 |  0.005 |  0.003 | -0.006 | -0.004 |\n",
       "|  0.000 |  0.000 |  0.003 |  0.000 | -0.003 |  0.000 |\n",
       "|  0.005 |  0.003 |  0.000 |  0.004 | -0.040 | -0.047 |\n",
       "|  0.003 |  0.000 |  0.004 |  0.000 | -0.048 | -0.033 |\n",
       "| -0.006 | -0.003 | -0.040 | -0.048 |  0.000 |  0.012 |\n",
       "| -0.004 |  0.000 | -0.047 | -0.033 |  0.012 |  0.000 |\n",
       "\n"
      ],
      "text/plain": [
       "     [,1]   [,2]   [,3]   [,4]   [,5]   [,6]  \n",
       "[1,]  0.000  0.000  0.005  0.003 -0.006 -0.004\n",
       "[2,]  0.000  0.000  0.003  0.000 -0.003  0.000\n",
       "[3,]  0.005  0.003  0.000  0.004 -0.040 -0.047\n",
       "[4,]  0.003  0.000  0.004  0.000 -0.048 -0.033\n",
       "[5,] -0.006 -0.003 -0.040 -0.048  0.000  0.012\n",
       "[6,] -0.004  0.000 -0.047 -0.033  0.012  0.000"
      ]
     },
     "metadata": {},
     "output_type": "display_data"
    }
   ],
   "source": [
    "round(residual_matrix,3)\n"
   ]
  },
  {
   "cell_type": "code",
   "execution_count": 51,
   "metadata": {},
   "outputs": [
    {
     "data": {
      "text/plain": [
       "$loadings\n",
       "\n",
       "Loadings:\n",
       "     [,1]   [,2]   [,3]  \n",
       "[1,] -0.354  0.244  0.903\n",
       "[2,] -0.234  0.949  0.211\n",
       "[3,] -0.921  0.166  0.218\n",
       "[4,] -0.903  0.214  0.252\n",
       "[5,] -0.888  0.229  0.284\n",
       "[6,] -0.908  0.192  0.264\n",
       "\n",
       "                [,1]  [,2]  [,3]\n",
       "SS loadings    3.455 1.123 1.120\n",
       "Proportion Var 0.576 0.187 0.187\n",
       "Cumulative Var 0.576 0.763 0.950\n",
       "\n",
       "$rotmat\n",
       "          [,1]       [,2]       [,3]\n",
       "[1,] 0.8546400 -0.3383596 -0.3938315\n",
       "[2,] 0.4823863  0.7980278  0.3611857\n",
       "[3,] 0.1920779 -0.4986627  0.8452465\n"
      ]
     },
     "metadata": {},
     "output_type": "display_data"
    }
   ],
   "source": [
    "# rotation \n",
    "varimax(x = L_star)"
   ]
  },
  {
   "cell_type": "code",
   "execution_count": 52,
   "metadata": {},
   "outputs": [
    {
     "data": {
      "text/plain": [
       "$loadings\n",
       "\n",
       "Loadings:\n",
       "     [,1]   [,2]   [,3]  \n",
       "[1,]                0.987\n",
       "[2,]         0.999       \n",
       "[3,] -0.996              \n",
       "[4,] -0.951              \n",
       "[5,] -0.917              \n",
       "[6,] -0.957              \n",
       "\n",
       "                [,1]  [,2]  [,3]\n",
       "SS loadings    3.653 1.000 0.977\n",
       "Proportion Var 0.609 0.167 0.163\n",
       "Cumulative Var 0.609 0.776 0.938\n",
       "\n",
       "$rotmat\n",
       "          [,1]       [,2]       [,3]\n",
       "[1,] 0.8101622 -0.1380378 -0.1706652\n",
       "[2,] 0.8952654  0.9216360  0.4394164\n",
       "[3,] 0.4655857 -0.7377482  1.2325794\n"
      ]
     },
     "metadata": {},
     "output_type": "display_data"
    }
   ],
   "source": [
    "promax(x = L_star)"
   ]
  },
  {
   "cell_type": "code",
   "execution_count": null,
   "metadata": {},
   "outputs": [],
   "source": []
  }
 ],
 "metadata": {
  "kernelspec": {
   "display_name": "R",
   "language": "R",
   "name": "ir"
  },
  "language_info": {
   "codemirror_mode": "r",
   "file_extension": ".r",
   "mimetype": "text/x-r-source",
   "name": "R",
   "pygments_lexer": "r",
   "version": "3.6.3"
  }
 },
 "nbformat": 4,
 "nbformat_minor": 4
}
