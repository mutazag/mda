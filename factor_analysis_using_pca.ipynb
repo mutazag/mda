{
 "cells": [
  {
   "cell_type": "markdown",
   "metadata": {},
   "source": [
    "#   example 9.3 JW Facor anaysis of consumer preference data "
   ]
  },
  {
   "cell_type": "code",
   "execution_count": 2,
   "metadata": {},
   "outputs": [],
   "source": [
    "Sigma <- matrix(c(1,.02,.96,.42,.01,.02,1,.13,.71,.85,.96,.13,1,.5,.11,.42,.71,.5,1,.79,.01,.85,.11,.79,1), nrow=5, byrow=T)"
   ]
  },
  {
   "cell_type": "code",
   "execution_count": 3,
   "metadata": {},
   "outputs": [
    {
     "data": {
      "text/html": [
       "<table>\n",
       "<caption>A matrix: 5 × 5 of type dbl</caption>\n",
       "<tbody>\n",
       "\t<tr><td>1.00</td><td>0.02</td><td>0.96</td><td>0.42</td><td>0.01</td></tr>\n",
       "\t<tr><td>0.02</td><td>1.00</td><td>0.13</td><td>0.71</td><td>0.85</td></tr>\n",
       "\t<tr><td>0.96</td><td>0.13</td><td>1.00</td><td>0.50</td><td>0.11</td></tr>\n",
       "\t<tr><td>0.42</td><td>0.71</td><td>0.50</td><td>1.00</td><td>0.79</td></tr>\n",
       "\t<tr><td>0.01</td><td>0.85</td><td>0.11</td><td>0.79</td><td>1.00</td></tr>\n",
       "</tbody>\n",
       "</table>\n"
      ],
      "text/latex": [
       "A matrix: 5 × 5 of type dbl\n",
       "\\begin{tabular}{lllll}\n",
       "\t 1.00 & 0.02 & 0.96 & 0.42 & 0.01\\\\\n",
       "\t 0.02 & 1.00 & 0.13 & 0.71 & 0.85\\\\\n",
       "\t 0.96 & 0.13 & 1.00 & 0.50 & 0.11\\\\\n",
       "\t 0.42 & 0.71 & 0.50 & 1.00 & 0.79\\\\\n",
       "\t 0.01 & 0.85 & 0.11 & 0.79 & 1.00\\\\\n",
       "\\end{tabular}\n"
      ],
      "text/markdown": [
       "\n",
       "A matrix: 5 × 5 of type dbl\n",
       "\n",
       "| 1.00 | 0.02 | 0.96 | 0.42 | 0.01 |\n",
       "| 0.02 | 1.00 | 0.13 | 0.71 | 0.85 |\n",
       "| 0.96 | 0.13 | 1.00 | 0.50 | 0.11 |\n",
       "| 0.42 | 0.71 | 0.50 | 1.00 | 0.79 |\n",
       "| 0.01 | 0.85 | 0.11 | 0.79 | 1.00 |\n",
       "\n"
      ],
      "text/plain": [
       "     [,1] [,2] [,3] [,4] [,5]\n",
       "[1,] 1.00 0.02 0.96 0.42 0.01\n",
       "[2,] 0.02 1.00 0.13 0.71 0.85\n",
       "[3,] 0.96 0.13 1.00 0.50 0.11\n",
       "[4,] 0.42 0.71 0.50 1.00 0.79\n",
       "[5,] 0.01 0.85 0.11 0.79 1.00"
      ]
     },
     "metadata": {},
     "output_type": "display_data"
    }
   ],
   "source": [
    "Sigma\n"
   ]
  },
  {
   "cell_type": "code",
   "execution_count": 4,
   "metadata": {},
   "outputs": [],
   "source": [
    "egs = eigen(Sigma)"
   ]
  },
  {
   "cell_type": "code",
   "execution_count": 5,
   "metadata": {},
   "outputs": [],
   "source": [
    "V = egs$vectors\n",
    "Lambdas = egs$values\n",
    "D = diag(egs$values)"
   ]
  },
  {
   "cell_type": "code",
   "execution_count": 6,
   "metadata": {},
   "outputs": [
    {
     "name": "stdout",
     "output_type": "stream",
     "text": [
      "[1] \"vectors\"\n",
      "          [,1]        [,2]        [,3]       [,4]         [,5]\n",
      "[1,] 0.3314539 -0.60721643  0.09848524  0.1386643  0.701783012\n",
      "[2,] 0.4601593  0.39003172  0.74256408 -0.2821170  0.071674637\n",
      "[3,] 0.3820572 -0.55650828  0.16840896  0.1170037 -0.708716714\n",
      "[4,] 0.5559769  0.07806457 -0.60158211 -0.5682357  0.001656352\n",
      "[5,] 0.4725608  0.40418799 -0.22053713  0.7513990  0.009012569\n",
      "[1] \"lambdas\"\n",
      "[1] 2.85309042 1.80633245 0.20449022 0.10240947 0.03367744\n",
      "[1] \"D\"\n",
      "        [,1]     [,2]      [,3]      [,4]       [,5]\n",
      "[1,] 2.85309 0.000000 0.0000000 0.0000000 0.00000000\n",
      "[2,] 0.00000 1.806332 0.0000000 0.0000000 0.00000000\n",
      "[3,] 0.00000 0.000000 0.2044902 0.0000000 0.00000000\n",
      "[4,] 0.00000 0.000000 0.0000000 0.1024095 0.00000000\n",
      "[5,] 0.00000 0.000000 0.0000000 0.0000000 0.03367744\n"
     ]
    }
   ],
   "source": [
    "print('vectors')\n",
    "print(V)\n",
    "print('lambdas')\n",
    "print(Lambdas)\n",
    "print('D')\n",
    "print(D)"
   ]
  },
  {
   "cell_type": "code",
   "execution_count": 7,
   "metadata": {},
   "outputs": [],
   "source": [
    "# 5 eigen vectors \n",
    "e1 <- V[,1]\n",
    "e2 <- V[,2]\n",
    "e3 <- V[,3]\n",
    "e4 <- V[,4]\n",
    "e5 <- V[,5]"
   ]
  },
  {
   "cell_type": "code",
   "execution_count": 8,
   "metadata": {},
   "outputs": [
    {
     "name": "stdout",
     "output_type": "stream",
     "text": [
      "[1] 2.85309042 1.80633245 0.20449022 0.10240947 0.03367744\n"
     ]
    }
   ],
   "source": [
    "# first two eigen values, lambda1 and lambda2\n",
    "print(Lambdas)\n",
    "l1 = Lambdas[1]\n",
    "l2 = Lambdas[2]"
   ]
  },
  {
   "cell_type": "code",
   "execution_count": 9,
   "metadata": {},
   "outputs": [
    {
     "data": {
      "text/html": [
       "4.99999999999999"
      ],
      "text/latex": [
       "4.99999999999999"
      ],
      "text/markdown": [
       "4.99999999999999"
      ],
      "text/plain": [
       "[1] 5"
      ]
     },
     "metadata": {},
     "output_type": "display_data"
    },
    {
     "data": {
      "text/html": [
       "TRUE"
      ],
      "text/latex": [
       "TRUE"
      ],
      "text/markdown": [
       "TRUE"
      ],
      "text/plain": [
       "[1] TRUE"
      ]
     },
     "metadata": {},
     "output_type": "display_data"
    }
   ],
   "source": [
    "# sum of lambdas almos equal to p = 5\n",
    "p = dim(Sigma)[1]\n",
    "sum(Lambdas) \n",
    "all.equal(p, sum(Lambdas))"
   ]
  },
  {
   "cell_type": "code",
   "execution_count": 10,
   "metadata": {},
   "outputs": [
    {
     "data": {
      "text/html": [
       "0.931884574801659"
      ],
      "text/latex": [
       "0.931884574801659"
      ],
      "text/markdown": [
       "0.931884574801659"
      ],
      "text/plain": [
       "[1] 0.9318846"
      ]
     },
     "metadata": {},
     "output_type": "display_data"
    }
   ],
   "source": [
    "#for m = 2 common factors will account a cumulative proptin as follows \n",
    "m = 2\n",
    "\n",
    "sum(Lambdas[1:m]) / p"
   ]
  },
  {
   "cell_type": "code",
   "execution_count": 11,
   "metadata": {},
   "outputs": [
    {
     "data": {
      "text/html": [
       "<style>\n",
       ".list-inline {list-style: none; margin:0; padding: 0}\n",
       ".list-inline>li {display: inline-block}\n",
       ".list-inline>li:not(:last-child)::after {content: \"\\00b7\"; padding: 0 .5ex}\n",
       "</style>\n",
       "<ol class=list-inline><li>2.85309042039195</li><li>1.80633245361634</li></ol>\n"
      ],
      "text/latex": [
       "\\begin{enumerate*}\n",
       "\\item 2.85309042039195\n",
       "\\item 1.80633245361634\n",
       "\\end{enumerate*}\n"
      ],
      "text/markdown": [
       "1. 2.85309042039195\n",
       "2. 1.80633245361634\n",
       "\n",
       "\n"
      ],
      "text/plain": [
       "[1] 2.853090 1.806332"
      ]
     },
     "metadata": {},
     "output_type": "display_data"
    }
   ],
   "source": [
    "Lambdas[1:2]"
   ]
  },
  {
   "cell_type": "code",
   "execution_count": 12,
   "metadata": {},
   "outputs": [],
   "source": [
    "# estimating factors"
   ]
  },
  {
   "cell_type": "code",
   "execution_count": 13,
   "metadata": {},
   "outputs": [],
   "source": [
    "Fl1 = round(sqrt(Lambdas[1]) * e1, 2)\n",
    "Fl2 = round(sqrt(Lambdas[2]) * e2, 2)"
   ]
  },
  {
   "cell_type": "code",
   "execution_count": 14,
   "metadata": {},
   "outputs": [
    {
     "name": "stdout",
     "output_type": "stream",
     "text": [
      "[1] 0.56 0.78 0.65 0.94 0.80\n",
      "[1] -0.82  0.52 -0.75  0.10  0.54\n"
     ]
    }
   ],
   "source": [
    "print(Fl1)\n",
    "print(Fl2)"
   ]
  },
  {
   "cell_type": "code",
   "execution_count": 15,
   "metadata": {},
   "outputs": [],
   "source": [
    "# calculate communalities \n",
    "# h1 = Fl1^2 + Fl2^2 + ... + Flp^2\n",
    "h2 = round((Fl1**2) + (Fl2**2),2)"
   ]
  },
  {
   "cell_type": "code",
   "execution_count": 16,
   "metadata": {},
   "outputs": [
    {
     "data": {
      "text/html": [
       "<style>\n",
       ".list-inline {list-style: none; margin:0; padding: 0}\n",
       ".list-inline>li {display: inline-block}\n",
       ".list-inline>li:not(:last-child)::after {content: \"\\00b7\"; padding: 0 .5ex}\n",
       "</style>\n",
       "<ol class=list-inline><li>0.99</li><li>0.88</li><li>0.99</li><li>0.89</li><li>0.93</li></ol>\n"
      ],
      "text/latex": [
       "\\begin{enumerate*}\n",
       "\\item 0.99\n",
       "\\item 0.88\n",
       "\\item 0.99\n",
       "\\item 0.89\n",
       "\\item 0.93\n",
       "\\end{enumerate*}\n"
      ],
      "text/markdown": [
       "1. 0.99\n",
       "2. 0.88\n",
       "3. 0.99\n",
       "4. 0.89\n",
       "5. 0.93\n",
       "\n",
       "\n"
      ],
      "text/plain": [
       "[1] 0.99 0.88 0.99 0.89 0.93"
      ]
     },
     "metadata": {},
     "output_type": "display_data"
    }
   ],
   "source": [
    "h2"
   ]
  },
  {
   "cell_type": "code",
   "execution_count": 17,
   "metadata": {},
   "outputs": [],
   "source": [
    "# specific variance, upper case epsilon \n",
    "# Epsilon_i (i = 1 .. p) = 1 - hi ^ 2\n",
    "Eps  = round(1- h2,3)"
   ]
  },
  {
   "cell_type": "code",
   "execution_count": 18,
   "metadata": {},
   "outputs": [
    {
     "data": {
      "text/html": [
       "<style>\n",
       ".list-inline {list-style: none; margin:0; padding: 0}\n",
       ".list-inline>li {display: inline-block}\n",
       ".list-inline>li:not(:last-child)::after {content: \"\\00b7\"; padding: 0 .5ex}\n",
       "</style>\n",
       "<ol class=list-inline><li>0.01</li><li>0.12</li><li>0.01</li><li>0.11</li><li>0.07</li></ol>\n"
      ],
      "text/latex": [
       "\\begin{enumerate*}\n",
       "\\item 0.01\n",
       "\\item 0.12\n",
       "\\item 0.01\n",
       "\\item 0.11\n",
       "\\item 0.07\n",
       "\\end{enumerate*}\n"
      ],
      "text/markdown": [
       "1. 0.01\n",
       "2. 0.12\n",
       "3. 0.01\n",
       "4. 0.11\n",
       "5. 0.07\n",
       "\n",
       "\n"
      ],
      "text/plain": [
       "[1] 0.01 0.12 0.01 0.11 0.07"
      ]
     },
     "metadata": {},
     "output_type": "display_data"
    }
   ],
   "source": [
    "Eps"
   ]
  },
  {
   "cell_type": "markdown",
   "metadata": {},
   "source": [
    "# now put it all together "
   ]
  },
  {
   "cell_type": "code",
   "execution_count": 19,
   "metadata": {},
   "outputs": [],
   "source": [
    "# factor loading matrix with m = 2\n",
    "\n",
    "L = matrix(cbind(Fl1, Fl2), ncol=2)\n",
    "Epsilon_mat = diag(Eps)"
   ]
  },
  {
   "cell_type": "code",
   "execution_count": 20,
   "metadata": {},
   "outputs": [
    {
     "data": {
      "text/html": [
       "<table>\n",
       "<caption>A matrix: 5 × 5 of type dbl</caption>\n",
       "<tbody>\n",
       "\t<tr><td>0.01</td><td>0.00</td><td>0.00</td><td>0.00</td><td>0.00</td></tr>\n",
       "\t<tr><td>0.00</td><td>0.12</td><td>0.00</td><td>0.00</td><td>0.00</td></tr>\n",
       "\t<tr><td>0.00</td><td>0.00</td><td>0.01</td><td>0.00</td><td>0.00</td></tr>\n",
       "\t<tr><td>0.00</td><td>0.00</td><td>0.00</td><td>0.11</td><td>0.00</td></tr>\n",
       "\t<tr><td>0.00</td><td>0.00</td><td>0.00</td><td>0.00</td><td>0.07</td></tr>\n",
       "</tbody>\n",
       "</table>\n"
      ],
      "text/latex": [
       "A matrix: 5 × 5 of type dbl\n",
       "\\begin{tabular}{lllll}\n",
       "\t 0.01 & 0.00 & 0.00 & 0.00 & 0.00\\\\\n",
       "\t 0.00 & 0.12 & 0.00 & 0.00 & 0.00\\\\\n",
       "\t 0.00 & 0.00 & 0.01 & 0.00 & 0.00\\\\\n",
       "\t 0.00 & 0.00 & 0.00 & 0.11 & 0.00\\\\\n",
       "\t 0.00 & 0.00 & 0.00 & 0.00 & 0.07\\\\\n",
       "\\end{tabular}\n"
      ],
      "text/markdown": [
       "\n",
       "A matrix: 5 × 5 of type dbl\n",
       "\n",
       "| 0.01 | 0.00 | 0.00 | 0.00 | 0.00 |\n",
       "| 0.00 | 0.12 | 0.00 | 0.00 | 0.00 |\n",
       "| 0.00 | 0.00 | 0.01 | 0.00 | 0.00 |\n",
       "| 0.00 | 0.00 | 0.00 | 0.11 | 0.00 |\n",
       "| 0.00 | 0.00 | 0.00 | 0.00 | 0.07 |\n",
       "\n"
      ],
      "text/plain": [
       "     [,1] [,2] [,3] [,4] [,5]\n",
       "[1,] 0.01 0.00 0.00 0.00 0.00\n",
       "[2,] 0.00 0.12 0.00 0.00 0.00\n",
       "[3,] 0.00 0.00 0.01 0.00 0.00\n",
       "[4,] 0.00 0.00 0.00 0.11 0.00\n",
       "[5,] 0.00 0.00 0.00 0.00 0.07"
      ]
     },
     "metadata": {},
     "output_type": "display_data"
    }
   ],
   "source": [
    "Epsilon_mat"
   ]
  },
  {
   "cell_type": "code",
   "execution_count": 21,
   "metadata": {},
   "outputs": [],
   "source": [
    "#Estimaed sigma \n",
    "Est_Sigma = round(L %*% t(L) + Epsilon_mat,2)"
   ]
  },
  {
   "cell_type": "code",
   "execution_count": 22,
   "metadata": {},
   "outputs": [
    {
     "name": "stdout",
     "output_type": "stream",
     "text": [
      "     [,1] [,2] [,3] [,4] [,5]\n",
      "[1,] 1.00 0.02 0.96 0.42 0.01\n",
      "[2,] 0.02 1.00 0.13 0.71 0.85\n",
      "[3,] 0.96 0.13 1.00 0.50 0.11\n",
      "[4,] 0.42 0.71 0.50 1.00 0.79\n",
      "[5,] 0.01 0.85 0.11 0.79 1.00\n",
      "     [,1] [,2] [,3] [,4] [,5]\n",
      "[1,] 1.00 0.01 0.98 0.44 0.01\n",
      "[2,] 0.01 1.00 0.12 0.79 0.90\n",
      "[3,] 0.98 0.12 1.00 0.54 0.12\n",
      "[4,] 0.44 0.79 0.54 1.00 0.81\n",
      "[5,] 0.01 0.90 0.12 0.81 1.00\n"
     ]
    }
   ],
   "source": [
    "print(Sigma)\n",
    "print(Est_Sigma)"
   ]
  },
  {
   "cell_type": "markdown",
   "metadata": {},
   "source": [
    "# JW (9-19) pg 490, sum of squared entries of residual matrix is less or equal to sum of left out eigen values"
   ]
  },
  {
   "cell_type": "code",
   "execution_count": 23,
   "metadata": {},
   "outputs": [
    {
     "data": {
      "text/html": [
       "0.024"
      ],
      "text/latex": [
       "0.024"
      ],
      "text/markdown": [
       "0.024"
      ],
      "text/plain": [
       "[1] 0.024"
      ]
     },
     "metadata": {},
     "output_type": "display_data"
    }
   ],
   "source": [
    "sum((Sigma - Est_Sigma)**2)"
   ]
  },
  {
   "cell_type": "code",
   "execution_count": 24,
   "metadata": {},
   "outputs": [
    {
     "data": {
      "text/html": [
       "0.340577125991696"
      ],
      "text/latex": [
       "0.340577125991696"
      ],
      "text/markdown": [
       "0.340577125991696"
      ],
      "text/plain": [
       "[1] 0.3405771"
      ]
     },
     "metadata": {},
     "output_type": "display_data"
    }
   ],
   "source": [
    "sum(Lambdas[(m+1):5])"
   ]
  },
  {
   "cell_type": "code",
   "execution_count": 25,
   "metadata": {},
   "outputs": [
    {
     "data": {
      "text/html": [
       "TRUE"
      ],
      "text/latex": [
       "TRUE"
      ],
      "text/markdown": [
       "TRUE"
      ],
      "text/plain": [
       "[1] TRUE"
      ]
     },
     "metadata": {},
     "output_type": "display_data"
    }
   ],
   "source": [
    "sum((Sigma - Est_Sigma)**2) <= sum(Lambdas[(m+1):5])"
   ]
  },
  {
   "cell_type": "code",
   "execution_count": 58,
   "metadata": {},
   "outputs": [
    {
     "data": {
      "image/png": "[encoded data removed]",
      "text/plain": [
       "plot without title"
      ]
     },
     "metadata": {
      "image/png": {
       "height": 420,
       "width": 420
      }
     },
     "output_type": "display_data"
    }
   ],
   "source": [
    "pp <- list()\n",
    "for (i in 1:p){\n",
    "    pp[[i]] <- (1 - (sum(Lambdas[1:i]) / sum(Lambdas)))\n",
    "}\n",
    "plot(matrix(pp), type='b')"
   ]
  },
  {
   "cell_type": "code",
   "execution_count": 54,
   "metadata": {},
   "outputs": [
    {
     "data": {
      "text/html": [
       "5"
      ],
      "text/latex": [
       "5"
      ],
      "text/markdown": [
       "5"
      ],
      "text/plain": [
       "[1] 5"
      ]
     },
     "metadata": {},
     "output_type": "display_data"
    }
   ],
   "source": [
    "p"
   ]
  },
  {
   "cell_type": "code",
   "execution_count": null,
   "metadata": {},
   "outputs": [],
   "source": []
  }
 ],
 "metadata": {
  "kernelspec": {
   "display_name": "R",
   "language": "R",
   "name": "ir"
  },
  "language_info": {
   "codemirror_mode": "r",
   "file_extension": ".r",
   "mimetype": "text/x-r-source",
   "name": "R",
   "pygments_lexer": "r",
   "version": "3.6.3"
  }
 },
 "nbformat": 4,
 "nbformat_minor": 4
}
